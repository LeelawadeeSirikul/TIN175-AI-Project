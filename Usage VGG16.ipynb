{
 "cells": [
  {
   "cell_type": "code",
   "execution_count": 3,
   "metadata": {},
   "outputs": [
    {
     "name": "stdout",
     "output_type": "stream",
     "text": [
      "Found 2496 images belonging to 4 classes.\n",
      "Found 623 images belonging to 4 classes.\n"
     ]
    }
   ],
   "source": [
    "import numpy as np\n",
    "from keras.applications.imagenet_utils import preprocess_input\n",
    "from keras import applications\n",
    "from keras.models import Sequential\n",
    "from keras.layers import Convolution2D, MaxPooling2D, Flatten, Dense, Dropout\n",
    "from keras.preprocessing.image import ImageDataGenerator\n",
    "import matplotlib.pyplot as plt\n",
    "\n",
    "datasetpath = 'dataset'\n",
    "batch_size = 16\n",
    "img_size = 128\n",
    "model = applications.VGG16(include_top=False, weights='imagenet')\n",
    "\n",
    "vgg_data_gen = ImageDataGenerator(preprocessing_function=preprocess_input, validation_split = 0.2)\n",
    "\n",
    "train_generator = vgg_data_gen.flow_from_directory(\n",
    "        datasetpath,\n",
    "        subset=\"training\",\n",
    "        target_size=(img_size, img_size),\n",
    "        batch_size=batch_size,\n",
    "        class_mode='categorical', \n",
    "        shuffle=False)  \n",
    "\n",
    "cnn_features = model.predict_generator(train_generator, len(train_generator))\n",
    "\n",
    "filename = 'cnn_features_training'\n",
    "with open(filename, 'wb') as f:\n",
    "          np.save(f, cnn_features)\n",
    "\n",
    "val_generator = vgg_data_gen.flow_from_directory(\n",
    "        datasetpath,\n",
    "        subset=\"validation\",\n",
    "        target_size=(img_size, img_size),\n",
    "        batch_size=batch_size,\n",
    "        class_mode='categorical',\n",
    "        shuffle=False)\n",
    "cnn_features = model.predict_generator(val_generator, len(val_generator))\n",
    "filename = 'cnn_features_validation'\n",
    "with open(filename, 'wb') as f:\n",
    "          np.save(f, cnn_features)\n"
   ]
  },
  {
   "cell_type": "code",
   "execution_count": 14,
   "metadata": {},
   "outputs": [
    {
     "name": "stdout",
     "output_type": "stream",
     "text": [
      "Train on 2496 samples, validate on 623 samples\n",
      "Epoch 1/50\n",
      "2496/2496 [==============================] - 10s 4ms/step - loss: 8.4507 - acc: 0.4499 - val_loss: 5.0072 - val_acc: 0.6742\n",
      "Epoch 2/50\n",
      "2496/2496 [==============================] - 9s 4ms/step - loss: 6.2961 - acc: 0.5950 - val_loss: 4.4889 - val_acc: 0.7111\n",
      "Epoch 3/50\n",
      "2496/2496 [==============================] - 9s 4ms/step - loss: 5.2610 - acc: 0.6639 - val_loss: 2.6394 - val_acc: 0.8331\n",
      "Epoch 4/50\n",
      "2496/2496 [==============================] - 9s 4ms/step - loss: 4.7170 - acc: 0.6991 - val_loss: 2.7473 - val_acc: 0.8218\n",
      "Epoch 5/50\n",
      "2496/2496 [==============================] - 10s 4ms/step - loss: 4.4245 - acc: 0.7171 - val_loss: 2.4903 - val_acc: 0.8315\n",
      "Epoch 6/50\n",
      "2496/2496 [==============================] - 9s 4ms/step - loss: 4.0261 - acc: 0.7416 - val_loss: 3.3901 - val_acc: 0.7849\n",
      "Epoch 7/50\n",
      "2496/2496 [==============================] - 9s 4ms/step - loss: 3.8486 - acc: 0.7536 - val_loss: 3.3575 - val_acc: 0.7865\n",
      "Epoch 8/50\n",
      "2496/2496 [==============================] - 9s 4ms/step - loss: 4.0339 - acc: 0.7436 - val_loss: 3.1331 - val_acc: 0.8010\n",
      "Epoch 9/50\n",
      "2496/2496 [==============================] - 9s 4ms/step - loss: 3.6650 - acc: 0.7672 - val_loss: 2.7030 - val_acc: 0.8283\n"
     ]
    }
   ],
   "source": [
    "from keras.utils.np_utils import to_categorical\n",
    "\n",
    "datagen_top = ImageDataGenerator(rescale=1. / 255)\n",
    "    \n",
    "nb_train_samples = len(train_generator.filenames)\n",
    "num_classes = len(train_generator.class_indices)\n",
    "\n",
    "np.save('class_indices.npy', train_generator.class_indices)\n",
    "with open('cnn_features_training', 'rb') as f:\n",
    "    train_data = np.load(f)\n",
    "\n",
    "train_labels = train_generator.classes\n",
    "\n",
    "train_labels = to_categorical(train_labels, num_classes=num_classes)\n",
    "\n",
    "nb_validation_samples = len(val_generator.filenames)\n",
    "\n",
    "with open('cnn_features_validation', 'rb') as f:\n",
    "    validation_data = np.load(f)\n",
    "    \n",
    "validation_labels = val_generator.classes\n",
    "validation_labels = to_categorical(validation_labels, num_classes=num_classes)\n",
    "\n",
    "model = Sequential()\n",
    "model.add(Flatten(input_shape=train_data.shape[1:]))\n",
    "model.add(Dense(512, activation='relu'))\n",
    "model.add(Dropout(0.5))\n",
    "model.add(Dense(256, activation='relu'))\n",
    "model.add(Dropout(0.5))\n",
    "model.add(Dense(num_classes, activation='softmax'))\n",
    "\n",
    "model.compile(optimizer='rmsprop',\n",
    "              loss='categorical_crossentropy', metrics=['accuracy'])\n",
    "\n",
    "from keras.callbacks import EarlyStopping\n",
    "early_stopping = EarlyStopping(monitor='val_loss', patience=4)\n",
    "\n",
    "\n",
    "history = model.fit(train_data, train_labels,\n",
    "                    epochs=50,\n",
    "                    batch_size=batch_size,\n",
    "                    validation_data=(validation_data, validation_labels),\n",
    "                    callbacks=[early_stopping]\n",
    "                    )\n"
   ]
  },
  {
   "cell_type": "code",
   "execution_count": 15,
   "metadata": {},
   "outputs": [
    {
     "name": "stdout",
     "output_type": "stream",
     "text": [
      "623/623 [==============================] - 0s 349us/step\n",
      "[INFO] accuracy: 82.83%\n",
      "[INFO] Loss: 2.703036560292803\n"
     ]
    },
    {
     "data": {
      "image/png": "[encoded data removed]",
      "text/plain": [
       "<Figure size 432x288 with 2 Axes>"
      ]
     },
     "metadata": {
      "needs_background": "light"
     },
     "output_type": "display_data"
    }
   ],
   "source": [
    "(eval_loss, eval_accuracy) = model.evaluate(\n",
    "   validation_data, validation_labels, batch_size=batch_size, verbose=1)\n",
    "\n",
    "print(\"[INFO] accuracy: {:.2f}%\".format(eval_accuracy * 100))\n",
    "print(\"[INFO] Loss: {}\".format(eval_loss))\n",
    "\n",
    "plt.figure(1)\n",
    "\n",
    "    # summarize history for accuracy\n",
    "\n",
    "plt.subplot(211)\n",
    "plt.plot(history.history['acc'])\n",
    "plt.plot(history.history['val_acc'])\n",
    "plt.title('model accuracy')\n",
    "plt.ylabel('accuracy')\n",
    "plt.xlabel('epoch')\n",
    "plt.legend(['train', 'test'], loc='upper left')\n",
    "\n",
    "    # summarize history for loss\n",
    "\n",
    "plt.subplot(212)\n",
    "plt.plot(history.history['loss'])\n",
    "plt.plot(history.history['val_loss'])\n",
    "plt.title('model loss')\n",
    "plt.ylabel('loss')\n",
    "plt.xlabel('epoch')\n",
    "plt.legend(['train', 'test'], loc='upper left')\n",
    "plt.show()"
   ]
  },
  {
   "cell_type": "code",
   "execution_count": null,
   "metadata": {},
   "outputs": [],
   "source": []
  }
 ],
 "metadata": {
  "kernelspec": {
   "display_name": "Python 3",
   "language": "python",
   "name": "python3"
  },
  "language_info": {
   "codemirror_mode": {
    "name": "ipython",
    "version": 3
   },
   "file_extension": ".py",
   "mimetype": "text/x-python",
   "name": "python",
   "nbconvert_exporter": "python",
   "pygments_lexer": "ipython3",
   "version": "3.6.8"
  }
 },
 "nbformat": 4,
 "nbformat_minor": 2
}
