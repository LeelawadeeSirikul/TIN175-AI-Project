{
 "cells": [
  {
   "cell_type": "code",
   "execution_count": 22,
   "metadata": {},
   "outputs": [],
   "source": [
    "from keras.preprocessing.image import ImageDataGenerator\n",
    "def create_generators(img_size = 128, datasetpath = r'C:\\Users\\SurfacePro4\\Desktop\\dataset', batch_size = 32):\n",
    "        datagen = ImageDataGenerator(\n",
    "                             rescale = 1./255,\n",
    "#                              validation_split=0.2,\n",
    "                             rotation_range=30,\n",
    "                             shear_range = 0.2,\n",
    "                             zoom_range = 0.2,\n",
    "                             horizontal_flip = True)\n",
    "\n",
    "        train_generator = datagen.flow_from_directory(\n",
    "                                           datasetpath+r'\\train',\n",
    "#                                            subset=\"training\",\n",
    "                                           target_size = (img_size, img_size),\n",
    "                                           class_mode = 'categorical', \n",
    "                                           batch_size = batch_size\n",
    "                                           )\n",
    "\n",
    "        validation_generator = datagen.flow_from_directory(\n",
    "                                            datasetpath+r'\\test',\n",
    "#                                             subset=\"validation\",\n",
    "                                            target_size = (img_size, img_size),\n",
    "                                            class_mode = 'categorical',\n",
    "                                            batch_size = batch_size\n",
    "                                            )\n",
    "        return train_generator, validation_generator"
   ]
  },
  {
   "cell_type": "code",
   "execution_count": 16,
   "metadata": {
    "collapsed": true
   },
   "outputs": [],
   "source": [
    "from keras.models import Sequential\n",
    "from keras.layers import Convolution2D, MaxPooling2D, Flatten, Dense, Dropout\n",
    "def create_model (nb_filters = 32, nb_layers = 3, img_size = 128):\n",
    "    \n",
    "    model = Sequential()\n",
    "    \n",
    "    model.add(Convolution2D(nb_filters, (3, 3), input_shape=(img_size, img_size, 3),activation = 'relu'))\n",
    "    model.add(MaxPooling2D(pool_size=(2, 2)))\n",
    "    \n",
    "    k = 1\n",
    "    \n",
    "    for i in range (2, (nb_layers + 1)):    \n",
    "        k = k * 2\n",
    "        model.add(Convolution2D(nb_filters * k, (3, 3),activation = 'relu'))\n",
    "        model.add(MaxPooling2D(pool_size=(2, 2)))\n",
    "\n",
    "    model.add(Flatten())  # this converts our 3D feature maps to 1D feature vectors\n",
    "    model.add(Dense(64, activation = 'relu'))\n",
    "    model.add(Dropout(0.5))\n",
    "    model.add(Dense(4,activation = 'sigmoid'))\n",
    "\n",
    "    model.compile(loss='categorical_crossentropy',\n",
    "                  optimizer='adam',\n",
    "                  metrics=['accuracy'])\n",
    "\n",
    "    return model"
   ]
  },
  {
   "cell_type": "code",
   "execution_count": 17,
   "metadata": {
    "collapsed": true
   },
   "outputs": [],
   "source": [
    "import matplotlib.pyplot as plt\n",
    "def draw_graph(History, arg): #arg = acc|loss\n",
    "    plt.tight_layout()\n",
    "    plt.plot(History.history[arg])\n",
    "    val_arg = 'val_' + arg\n",
    "    plt.plot(History.history[val_arg])\n",
    "    plt.title('Model '+ arg)\n",
    "    plt.ylabel(arg)\n",
    "    plt.xlabel('Epochs')\n",
    "    plt.legend(['train', 'validation'])\n",
    "    plt.show()"
   ]
  },
  {
   "cell_type": "code",
   "execution_count": 18,
   "metadata": {
    "collapsed": true
   },
   "outputs": [],
   "source": [
    "def save_model(model,filename):\n",
    "    model_json = model.to_json()\n",
    "    with open(\"model.json\", \"w\") as json_file:\n",
    "        json_file.write(model_json)\n",
    "    model.save_weights(\"model.h5\")"
   ]
  },
  {
   "cell_type": "code",
   "execution_count": 45,
   "metadata": {
    "collapsed": true
   },
   "outputs": [],
   "source": [
    "model = Sequential()\n",
    "\n",
    "model.add(Convolution2D(32, (3, 3), input_shape=(img_size, img_size, 3),activation = 'relu'))\n",
    "model.add(MaxPooling2D(pool_size=(2, 2)))\n",
    "model.add(Convolution2D(32, (3, 3),activation = 'relu'))\n",
    "model.add(MaxPooling2D(pool_size=(2, 2)))\n",
    "model.add(Convolution2D(64, (3, 3),activation = 'relu'))\n",
    "model.add(MaxPooling2D(pool_size=(2, 2)))"
   ]
  },
  {
   "cell_type": "code",
   "execution_count": 52,
   "metadata": {},
   "outputs": [
    {
     "name": "stdout",
     "output_type": "stream",
     "text": [
      "Found 2197 images belonging to 4 classes.\n",
      "Found 612 images belonging to 4 classes.\n"
     ]
    }
   ],
   "source": [
    "datagen = ImageDataGenerator(\n",
    "    rescale = 1./255,\n",
    "#     validation_split=0.2,\n",
    "    rotation_range=30,\n",
    "    shear_range = 0.2,\n",
    "    zoom_range = 0.2,\n",
    "    horizontal_flip = True)\n",
    "\n",
    "train_generator = datagen.flow_from_directory(\n",
    "    r'C:\\Users\\SurfacePro4\\Desktop\\dataset\\training',\n",
    "#     subset=\"training\",\n",
    "    target_size = (128, 128),\n",
    "    class_mode = 'categorical', \n",
    "    batch_size = 32\n",
    "    )\n",
    "\n",
    "validation_generator = datagen.flow_from_directory(\n",
    "    r'C:\\Users\\SurfacePro4\\Desktop\\dataset\\validation',\n",
    "#     subset=\"validation\",\n",
    "    target_size = (128, 128),\n",
    "    class_mode = 'categorical',\n",
    "    batch_size = 32\n",
    "    )"
   ]
  },
  {
   "cell_type": "code",
   "execution_count": 49,
   "metadata": {},
   "outputs": [
    {
     "data": {
      "text/plain": [
       "<keras_preprocessing.image.DirectoryIterator at 0x1b19bb630f0>"
      ]
     },
     "execution_count": 49,
     "metadata": {},
     "output_type": "execute_result"
    }
   ],
   "source": []
  },
  {
   "cell_type": "code",
   "execution_count": 54,
   "metadata": {},
   "outputs": [
    {
     "name": "stderr",
     "output_type": "stream",
     "text": [
      "C:\\Anaconda3\\envs\\py35\\lib\\site-packages\\ipykernel_launcher.py:14: UserWarning: The semantics of the Keras 2 argument `steps_per_epoch` is not the same as the Keras 1 argument `samples_per_epoch`. `steps_per_epoch` is the number of batches to draw from the generator at each epoch. Basically steps_per_epoch = samples_per_epoch/batch_size. Similarly `nb_val_samples`->`validation_steps` and `val_samples`->`steps` arguments have changed. Update your method calls accordingly.\n",
      "  \n",
      "C:\\Anaconda3\\envs\\py35\\lib\\site-packages\\ipykernel_launcher.py:14: UserWarning: Update your `fit_generator` call to the Keras 2 API: `fit_generator(<keras_pre..., validation_data=<keras_pre..., validation_steps=20, callbacks=[<keras.ca..., steps_per_epoch=69, epochs=30)`\n",
      "  \n"
     ]
    },
    {
     "name": "stdout",
     "output_type": "stream",
     "text": [
      "Epoch 1/30\n",
      "69/69 [==============================] - 104s 2s/step - loss: 1.1831 - acc: 0.4596 - val_loss: 0.9570 - val_acc: 0.5899\n",
      "Epoch 2/30\n",
      "69/69 [==============================] - 103s 1s/step - loss: 1.0126 - acc: 0.5717 - val_loss: 0.8590 - val_acc: 0.6699\n",
      "Epoch 3/30\n",
      "69/69 [==============================] - 102s 1s/step - loss: 0.9702 - acc: 0.5875 - val_loss: 0.8752 - val_acc: 0.6291\n",
      "Epoch 4/30\n",
      "69/69 [==============================] - 107s 2s/step - loss: 0.9222 - acc: 0.5986 - val_loss: 0.8307 - val_acc: 0.6814\n",
      "Epoch 5/30\n",
      "69/69 [==============================] - 115s 2s/step - loss: 0.8849 - acc: 0.6285 - val_loss: 0.8035 - val_acc: 0.7075\n",
      "Epoch 6/30\n",
      "69/69 [==============================] - 105s 2s/step - loss: 0.8650 - acc: 0.6235 - val_loss: 0.8284 - val_acc: 0.6503\n",
      "Epoch 7/30\n",
      "69/69 [==============================] - 108s 2s/step - loss: 0.8330 - acc: 0.6310 - val_loss: 0.7899 - val_acc: 0.6944\n",
      "Epoch 8/30\n",
      "69/69 [==============================] - 109s 2s/step - loss: 0.8186 - acc: 0.6360 - val_loss: 0.8069 - val_acc: 0.6732\n"
     ]
    }
   ],
   "source": [
    "img_size=128\n",
    "batch_size=16\n",
    "nb_layers=3\n",
    "\n",
    "from keras.callbacks import EarlyStopping\n",
    "early_stopping = EarlyStopping(monitor='val_acc', patience=3)\n",
    "\n",
    "model = create_model(32,nb_layers,img_size = img_size)\n",
    "History = model.fit_generator(train_generator,\n",
    "                  steps_per_epoch = len(train_generator),\n",
    "                  nb_epoch = 30,\n",
    "                  validation_data = validation_generator,\n",
    "                  validation_steps = len(validation_generator),\n",
    "                  callbacks=[early_stopping]\n",
    "                 )"
   ]
  },
  {
   "cell_type": "code",
   "execution_count": 34,
   "metadata": {},
   "outputs": [
    {
     "data": {
      "text/plain": [
       "keras.callbacks.History"
      ]
     },
     "execution_count": 34,
     "metadata": {},
     "output_type": "execute_result"
    }
   ],
   "source": [
    "History = model.fit_generator(train_generator,\n",
    "                  steps_per_epoch = len(train_generator),\n",
    "                  nb_epoch = 30,\n",
    "                  validation_data = validation_generator,\n",
    "                  validation_steps = len(validation_generator),\n",
    "                  callbacks=[early_stopping]\n",
    "                 )"
   ]
  },
  {
   "cell_type": "code",
   "execution_count": 55,
   "metadata": {
    "collapsed": true
   },
   "outputs": [],
   "source": [
    "save_model(model)"
   ]
  },
  {
   "cell_type": "code",
   "execution_count": null,
   "metadata": {
    "collapsed": true
   },
   "outputs": [],
   "source": []
  }
 ],
 "metadata": {
  "kernelspec": {
   "display_name": "Python 3",
   "language": "python",
   "name": "python3"
  },
  "language_info": {
   "codemirror_mode": {
    "name": "ipython",
    "version": 3
   },
   "file_extension": ".py",
   "mimetype": "text/x-python",
   "name": "python",
   "nbconvert_exporter": "python",
   "pygments_lexer": "ipython3",
   "version": "3.5.3"
  }
 },
 "nbformat": 4,
 "nbformat_minor": 2
}
